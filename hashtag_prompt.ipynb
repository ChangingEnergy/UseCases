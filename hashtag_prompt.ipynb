{
 "cells": [
  {
   "cell_type": "code",
   "execution_count": null,
   "metadata": {},
   "outputs": [],
   "source": [
    "#for dropdown widget (for selecting region)\n",
    "from ipywidgets import widgets as wd\n",
    "from IPython.display import display\n",
    "\n",
    "userOptions = wd.Dropdown(\n",
    "        options=[\"Africa\", \"Europe\", \"US\"],\n",
    "        value='Africa',\n",
    "        description='Regions:',\n",
    "        disabled=False\n",
    "        )\n",
    "\n",
    "display(userOptions)"
   ]
  },
  {
   "cell_type": "code",
   "execution_count": null,
   "metadata": {},
   "outputs": [],
   "source": [
    "userRegion =userOptions.value"
   ]
  },
  {
   "cell_type": "code",
   "execution_count": null,
   "metadata": {},
   "outputs": [],
   "source": [
    "#open region-dependent app\n",
    "# if userRegion == \"Africa\":\n",
    "#     %run ./app_AF.ipynb\n",
    "# elif userRegion == \"Europe\":\n",
    "#     %run ./app_EU.ipynb\n",
    "# else:\n",
    "#     %run ./app_US.ipynb"
   ]
  },
  {
   "cell_type": "code",
   "execution_count": null,
   "metadata": {},
   "outputs": [],
   "source": [
    "hashtagPrompt = input(\"Which word to track? \")"
   ]
  },
  {
   "cell_type": "code",
   "execution_count": null,
   "metadata": {},
   "outputs": [],
   "source": [
    "def replace_line(file_name, line_num, text):\n",
    "    lines = open(file_name, 'r').readlines()\n",
    "    lines[line_num] = text\n",
    "    out = open(file_name, 'w')\n",
    "    out.writelines(lines)\n",
    "    out.close()"
   ]
  },
  {
   "cell_type": "code",
   "execution_count": null,
   "metadata": {},
   "outputs": [],
   "source": [
    "replace_line(\"settings.py\", 0, \"TRACK_WORDS = [\\'\" + hashtagPrompt + \"\\']\\n\") # replace TRACK_WORDS line\n",
    "replace_line(\"settings.py\", 1, \"TABLE_NAME = \\\"\" + hashtagPrompt.replace(\" \", \"\") + \"\\\"\\n\") # replace TABLE_NAME line"
   ]
  },
  {
   "cell_type": "code",
   "execution_count": null,
   "metadata": {},
   "outputs": [],
   "source": [
    "#start scraping into Postgres\n",
    "%run ./scraping.ipynb"
   ]
  }
 ],
 "metadata": {
  "kernelspec": {
   "display_name": "Python 3",
   "language": "python",
   "name": "python3"
  },
  "language_info": {
   "codemirror_mode": {
    "name": "ipython",
    "version": 3
   },
   "file_extension": ".py",
   "mimetype": "text/x-python",
   "name": "python",
   "nbconvert_exporter": "python",
   "pygments_lexer": "ipython3",
   "version": "3.7.4"
  }
 },
 "nbformat": 4,
 "nbformat_minor": 2
}
